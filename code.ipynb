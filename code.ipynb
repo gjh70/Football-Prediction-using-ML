import pandas as pd
import numpy as np
from sklearn.model_selection import train_test_split, GridSearchCV, TimeSeriesSplit, cross_val_score
from sklearn.preprocessing import StandardScaler
from sklearn.naive_bayes import GaussianNB
from sklearn.svm import SVC
from sklearn.tree import DecisionTreeClassifier
from sklearn.metrics import accuracy_score, classification_report, confusion_matrix
from sklearn.feature_selection import SelectKBest, f_classif
from imblearn.over_sampling import SMOTE
import matplotlib.pyplot as plt
import seaborn as sns
from google.colab import files
import warnings
warnings.filterwarnings('ignore')

class FootballDataProcessor:
    """Process Kaggle football dataset for ML prediction"""

    def __init__(self):
        self.scaler = StandardScaler()

    def load_kaggle_data(self):
        """Load football data by uploading CSV file in Colab"""
        print("Please upload the CSV file (e.g., results.csv):")
        uploaded = files.upload()
        if not uploaded:
            raise ValueError("No file uploaded.")
        
        file_name = list(uploaded.keys())[0]
        file_path = f"/content/{file_name}"
        print(f"Attempting to load file: {file_path}")
        
        encodings = ['utf-8', 'latin1', 'iso-8859-1']
        df = None
        for encoding in encodings:
            try:
                df = pd.read_csv(file_path, encoding=encoding)
                print(f"✓ Dataset loaded successfully with {encoding} encoding! Shape: {df.shape}, Columns: {list(df.columns)}")
                return df
            except UnicodeDecodeError:
                print(f"✗ Failed to load with {encoding} encoding.")
                continue
            except FileNotFoundError:
                print(f"✗ Error: File '{file_path}' not found.")
                raise
            except Exception as e:
                print(f"✗ Error loading dataset with {encoding}: {e}")
                continue
        
        raise ValueError("Failed to load dataset with any encoding. Please check the file format.")

    def detect_column_mapping(self, df):
        """Detect and map column names to standard format"""
        columns = df.columns.str.lower().tolist()
        original_columns = df.columns.tolist()
        print(f"Available columns: {original_columns}")
        
        column_mappings = {
            'FTHG': ['fthg', 'homegoals', 'home_goals', 'hg', 'home_score', 'goals_home', 'home_team_goal'],
            'FTAG': ['ftag', 'awaygoals', 'away_goals', 'ag', 'away_score', 'goals_away', 'away_team_goal'],
            'FTR': ['ftr', 'result', 'full_time_result', 'winner', 'outcome'],
            'HomeTeam': ['hometeam', 'home', 'home_team', 'team_h', 'home_team_name'],
            'AwayTeam': ['awayteam', 'away', 'away_team', 'team_a', 'away_team_name'],
            'Date': ['date', 'match_date', 'game_date', 'datetime'],
            'HS': ['hs', 'homeshots', 'home_shots', 'shots_home'],
            'AS': ['as', 'awayshots', 'away_shots', 'shots_away'],
            'HST': ['hst', 'homeshotstarget', 'home_shots_target', 'home_shots_on_target'],
            'AST': ['ast', 'awayshotstarget', 'away_shots_target', 'away_shots_on_target'],
            'HC': ['hc', 'homecorners', 'home_corners', 'corners_home'],
            'AC': ['ac', 'awaycorners', 'away_corners', 'corners_away'],
            'HF': ['hf', 'homefouls', 'home_fouls', 'fouls_home'],
            'AF': ['af', 'awayfouls', 'away_fouls', 'fouls_away'],
            'Wk': ['wk', 'week', 'matchweek', 'match_week'],
            'Season_End_Year': ['season', 'season_end_year', 'year']
        }
        
        mapping_found = {}
        for standard_name, possible_names in column_mappings.items():
            for possible_name in possible_names:
                if possible_name in columns:
                    original_name = original_columns[columns.index(possible_name)]
                    mapping_found[standard_name] = original_name
                    break
        
        print(f"Column mappings found: {mapping_found}")
        return mapping_found

    def engineer_features(self, df):
        """Engineer features from raw match data"""
        data = df.copy()
        
        mappings = self.detect_column_mapping(data)
        required_columns = ['FTHG', 'FTAG', 'HomeTeam', 'AwayTeam']
        missing_columns = [col for col in required_columns if col not in mappings]
        if missing_columns:
            print(f"❌ Missing required columns: {missing_columns}")
            raise KeyError(f"Required columns not found: {missing_columns}")
        
        rename_dict = {v: k for k, v in mappings.items()}
        data = data.rename(columns=rename_dict)
        
        if 'Date' in data.columns:
            data['Date'] = pd.to_datetime(data['Date'], dayfirst=True, errors='coerce', utc=True)
            data = data.sort_values('Date').reset_index(drop=True)
        else:
            print("⚠️ No Date column found. Some features will be skipped.")
        
        if 'Season_End_Year' in data.columns:
            data['season'] = data['Season_End_Year'].apply(lambda x: int(x.split('-')[1]) if isinstance(x, str) and '-' in x else int(x))
        
        if 'FTR' not in data.columns:
            print("Creating result column from goals...")
            data['FTR'] = 'D'
            data.loc[data['FTHG'] > data['FTAG'], 'FTR'] = 'H'
            data.loc[data['FTHG'] < data['FTAG'], 'FTR'] = 'A'
        
        data['home_advantage'] = 1
        if 'HS' in data.columns and 'AS' in data.columns:
            data['shot_difference'] = data['HS'] - data['AS']
        if 'HST' in data.columns and 'AST' in data.columns:
            data['home_shot_accuracy'] = data['HST'] / (data['HS'] + 1)
            data['away_shot_accuracy'] = data['AST'] / (data['AS'] + 1)
            data['home_shot_efficiency'] = data['FTHG'] / (data['HST'] + 1)
            data['away_shot_efficiency'] = data['FTAG'] / (data['AST'] + 1)
        if 'HC' in data.columns and 'AC' in data.columns:
            data['corner_difference'] = data['HC'] - data['AC']
        if 'HF' in data.columns and 'AF' in data.columns:
            data['foul_difference'] = data['HF'] - data['AF']
        
        if 'Date' in data.columns:
            data = self.calculate_team_form(data)
            
            teams = pd.unique(data[['HomeTeam', 'AwayTeam']].values.ravel())
            team_stats = {team: {'home_points': [], 'away_points': [], 'home_goals_scored': [], 'away_goals_scored': [],
                                 'home_goals_conceded': [], 'away_goals_conceded': [], 'home_wins': [], 'away_wins': []} for team in teams}
            
            data['home_strength'] = 0.0
            data['away_strength'] = 0.0
            data['home_attack'] = 0.0
            data['away_defense'] = 0.0
            data['h2h_home_win_rate'] = 0.5
            data['home_streak'] = 0
            data['away_streak'] = 0
            data['home_goal_diff_form'] = 0.0
            data['away_goal_diff_form'] = 0.0
            data['home_recent_win_rate'] = 0.0
            data['away_recent_win_rate'] = 0.0
            
            h2h_dict = {f"{h}-{a}": {'wins_home': 0, 'total': 0} for h in teams for a in teams if h != a}
            team_streaks = {team: 0 for team in teams}
            
            for idx, row in data.iterrows():
                home, away = row['HomeTeam'], row['AwayTeam']
                
                if len(team_stats[home]['home_points']) > 0:
                    data.at[idx, 'home_strength'] = np.mean(team_stats[home]['home_points'])
                    data.at[idx, 'home_attack'] = np.mean(team_stats[home]['home_goals_scored'])
                    data.at[idx, 'home_goal_diff_form'] = np.mean([gs - gc for gs, gc in zip(team_stats[home]['home_goals_scored'], team_stats[home]['home_goals_conceded'])])
                    data.at[idx, 'home_recent_win_rate'] = np.mean(team_stats[home]['home_wins'][-5:]) if len(team_stats[home]['home_wins']) >= 5 else 0.0
                if len(team_stats[away]['away_points']) > 0:
                    data.at[idx, 'away_strength'] = np.mean(team_stats[away]['away_points'])
                    data.at[idx, 'away_defense'] = np.mean(team_stats[away]['away_goals_conceded'])
                    data.at[idx, 'away_goal_diff_form'] = np.mean([gs - gc for gs, gc in zip(team_stats[away]['away_goals_scored'], team_stats[away]['away_goals_conceded'])])
                    data.at[idx, 'away_recent_win_rate'] = np.mean(team_stats[away]['away_wins'][-5:]) if len(team_stats[away]['away_wins']) >= 5 else 0.0
                
                key = f"{home}-{away}"
                if h2h_dict[key]['total'] > 0:
                    data.at[idx, 'h2h_home_win_rate'] = h2h_dict[key]['wins_home'] / h2h_dict[key]['total']
                
                data.at[idx, 'home_streak'] = team_streaks[home]
                data.at[idx, 'away_streak'] = team_streaks[away]
                
                if row['FTR'] == 'H':
                    points_home, points_away = 3, 0
                    team_streaks[home] = max(team_streaks[home] + 1, 1)
                    team_streaks[away] = min(team_streaks[away] - 1, -1)
                    h2h_dict[key]['wins_home'] += 1
                    team_stats[home]['home_wins'].append(1)
                    team_stats[away]['away_wins'].append(0)
                elif row['FTR'] == 'A':
                    points_home, points_away = 0, 3
                    team_streaks[home] = min(team_streaks[home] - 1, -1)
                    team_streaks[away] = max(team_streaks[away] + 1, 1)
                    team_stats[home]['home_wins'].append(0)
                    team_stats[away]['away_wins'].append(1)
                else:
                    points_home, points_away = 1, 1
                    team_streaks[home] = 0
                    team_streaks[away] = 0
                    team_stats[home]['home_wins'].append(0)
                    team_stats[away]['away_wins'].append(0)
                
                team_stats[home]['home_points'].append(points_home)
                team_stats[away]['away_points'].append(points_away)
                team_stats[home]['home_goals_scored'].append(row['FTHG'])
                team_stats[away]['away_goals_scored'].append(row['FTAG'])
                team_stats[home]['home_goals_conceded'].append(row['FTAG'])
                team_stats[away]['away_goals_conceded'].append(row['FTHG'])
                h2h_dict[key]['total'] += 1
            
            if 'Wk' in data.columns:
                data['match_week'] = data['Wk']
        else:
            print("⚠️ No Date column. Using default form values.")
            data['home_team_form'] = 0.5
            data['away_team_form'] = 0.5
            data['home_goals_form'] = 1.0
            data['away_goals_form'] = 1.0
            data['home_goal_diff_form'] = 0.0
            data['away_goal_diff_form'] = 0.0
            data['home_recent_win_rate'] = 0.0
            data['away_recent_win_rate'] = 0.0
        
        print("✅ Feature engineering completed!")
        return data

    def calculate_team_form(self, df, window=5):
        """Calculate recent form for teams"""
        df = df.copy()
        df['Date'] = pd.to_datetime(df['Date'], utc=True)
        df = df.sort_values('Date')
        
        df['home_team_form'] = 0.5
        df['away_team_form'] = 0.5
        df['home_goals_form'] = 1.0
        df['away_goals_form'] = 1.0
        
        teams = pd.unique(df[['HomeTeam', 'AwayTeam']].values.ravel())
        team_results = {team: [] for team in teams}
        team_goals_scored = {team: [] for team in teams}
        team_goals_conceded = {team: [] for team in teams}
        
        for idx, row in df.iterrows():
            home_team, away_team = row['HomeTeam'], row['AwayTeam']
            result = row['FTR']
            home_goals, away_goals = row['FTHG'], row['FTAG']
            
            if len(team_results[home_team]) > 0:
                recent_results = team_results[home_team][-window:]
                df.at[idx, 'home_team_form'] = np.mean(recent_results)
                recent_goals = team_goals_scored[home_team][-window:]
                df.at[idx, 'home_goals_form'] = np.mean(recent_goals) if recent_goals else 1.0
            if len(team_results[away_team]) > 0:
                recent_results = team_results[away_team][-window:]
                df.at[idx, 'away_team_form'] = np.mean(recent_results)
                recent_goals = team_goals_scored[away_team][-window:]
                df.at[idx, 'away_goals_form'] = np.mean(recent_goals) if recent_goals else 1.0
            
            if result == 'H':
                team_results[home_team].append(1)
                team_results[away_team].append(0)
            elif result == 'A':
                team_results[home_team].append(0)
                team_results[away_team].append(1)
            else:
                team_results[home_team].append(0.5)
                team_results[away_team].append(0.5)
            
            team_goals_scored[home_team].append(home_goals)
            team_goals_scored[away_team].append(away_goals)
            team_goals_conceded[home_team].append(away_goals)
            team_goals_conceded[away_team].append(home_goals)
        
        return df

    def prepare_features_target(self, df):
        """Prepare features and target for ML models"""
        feature_columns = [
            'home_advantage', 'home_team_form', 'away_team_form', 'home_goals_form', 'away_goals_form',
            'home_strength', 'away_strength', 'home_attack', 'away_defense', 
            'h2h_home_win_rate', 'home_streak', 'away_streak',
            'home_goal_diff_form', 'away_goal_diff_form',
            'home_recent_win_rate', 'away_recent_win_rate'
        ]
        
        optional_features = [
            'match_week', 'season', 'home_shot_accuracy', 'away_shot_accuracy', 
            'shot_difference', 'corner_difference', 'foul_difference',
            'home_shot_efficiency', 'away_shot_efficiency'
        ]
        
        for feature in optional_features:
            if feature in df.columns:
                feature_columns.append(feature)
        
        feature_columns = [col for col in feature_columns if col in df.columns]
        X = df[feature_columns].fillna(0)
        y = df['FTR']
        
        selector = SelectKBest(score_func=f_classif, k=min(10, len(feature_columns)))
        X = selector.fit_transform(X, y)
        selected_features = [feature_columns[i] for i in selector.get_support(indices=True)]
        
        print(f"Selected features: {selected_features}")
        print(f"Feature matrix shape: {X.shape}")
        print(f"Target distribution:\n{y.value_counts()}")
        
        return X, y, selected_features

class FootballPredictor:
    """Football match prediction using Naive Bayes, SVM, and Decision Tree"""

    def __init__(self):
        self.models = {
            'Naive Bayes': GaussianNB(),
            'SVM': SVC(kernel='rbf', random_state=42, probability=True, class_weight='balanced'),
            'Decision Tree': DecisionTreeClassifier(random_state=42, class_weight='balanced')
        }
        self.scaler = StandardScaler()
        self.is_fitted = False
        self.feature_names = None

    def train_models(self, X, y, df):
        """Train all ML models"""
        self.feature_names = X.columns.tolist() if isinstance(X, pd.DataFrame) else None
        X_scaled = self.scaler.fit_transform(X)
        
        smote = SMOTE(random_state=42)
        X_scaled, y = smote.fit_resample(X_scaled, y)
        X_scaled = pd.DataFrame(X_scaled, columns=self.feature_names or [f'feature_{i}' for i in range(X_scaled.shape[1])])
        
        if 'Date' in df.columns:
            split_date = pd.to_datetime('2020-01-01', utc=True)
            train_idx = df['Date'] < split_date
            train_idx = train_idx[train_idx.index < len(X_scaled)]
            X_train, y_train = X_scaled.iloc[train_idx.index], y.iloc[train_idx.index]
            test_idx = ~train_idx
            test_idx = test_idx[test_idx.index < len(X_scaled)]
            X_test, y_test = X_scaled.iloc[test_idx.index], y.iloc[test_idx.index]
        else:
            X_train, X_test, y_train, y_test = train_test_split(
                X_scaled, y, test_size=0.2, random_state=42, stratify=y
            )
        
        results = {}
        print("Training models...")
        print("-" * 50)
        
        for name, model in self.models.items():
            print(f"\nTraining {name}...")
            
            if name == 'SVM':
                # Optimized parameter grid to reduce computation time
                param_grid = {
                    'C': [0.1, 1, 10],
                    'gamma': ['scale', 0.1],
                    'kernel': ['rbf']
                }
                model = GridSearchCV(model, param_grid, cv=TimeSeriesSplit(n_splits=3), scoring='accuracy', n_jobs=-1)
            elif name == 'Decision Tree':
                param_grid = {
                    'max_depth': [5, 10, 15],
                    'min_samples_split': [2, 10],
                    'min_samples_leaf': [1, 5]
                }
                model = GridSearchCV(model, param_grid, cv=TimeSeriesSplit(n_splits=3), scoring='accuracy', n_jobs=-1)
            
            model.fit(X_train, y_train)
            train_pred = model.predict(X_train)
            test_pred = model.predict(X_test)
            
            train_acc = accuracy_score(y_train, train_pred)
            test_acc = accuracy_score(y_test, test_pred)
            
            cv = TimeSeriesSplit(n_splits=3)
            cv_scores = cross_val_score(model, X_train, y_train, cv=cv, scoring='accuracy')
            
            results[name] = {
                'model': model,
                'train_accuracy': train_acc,
                'test_accuracy': test_acc,
                'cv_mean': cv_scores.mean(),
                'cv_std': cv_scores.std(),
                'test_predictions': test_pred,
                'test_actual': y_test
            }
            
            print(f"Train Accuracy: {train_acc:.4f}")
            print(f"Test Accuracy: {test_acc:.4f}")
            print(f"CV Score: {cv_scores.mean():.4f} (+/- {cv_scores.std() * 2:.4f})")
        
        self.is_fitted = True
        return results

    def evaluate_models(self, results):
        """Evaluate and compare model performance"""
        print("\n" + "="*60)
        print("MODEL COMPARISON")
        print("="*60)
        
        comparison_df = pd.DataFrame({
            'Model': list(results.keys()),
            'Train Accuracy': [results[name]['train_accuracy'] for name in results.keys()],
            'Test Accuracy': [results[name]['test_accuracy'] for name in results.keys()],
            'CV Mean': [results[name]['cv_mean'] for name in results.keys()],
            'CV Std': [results[name]['cv_std'] for name in results.keys()]
        })
        
        print(comparison_df.round(4))
        
        best_model = comparison_df.loc[comparison_df['Test Accuracy'].idxmax(), 'Model']
        print(f"\nBest performing model: {best_model}")
        
        return comparison_df

    def plot_results(self, results):
        """Plot model performance comparison"""
        fig, axes = plt.subplots(2, 2, figsize=(15, 12))
        
        models = list(results.keys())
        test_accuracies = [results[name]['test_accuracy'] for name in models]
        cv_means = [results[name]['cv_mean'] for name in models]
        
        x = np.arange(len(models))
        width = 0.35
        
        axes[0, 0].bar(x - width/2, test_accuracies, width, label='Test Accuracy', alpha=0.8)
        axes[0, 0].bar(x + width/2, cv_means, width, label='CV Mean', alpha=0.8)
        axes[0, 0].set_xlabel('Models')
        axes[0, 0].set_ylabel('Accuracy')
        axes[0, 0].set_title('Model Performance Comparison')
        axes[0, 0].set_xticks(x)
        axes[0, 0].set_xticklabels(models, rotation=45)
        axes[0, 0].legend()
        axes[0, 0].grid(True, alpha=0.3)
        
        for i, (name, result) in enumerate(results.items()):
            ax = axes[(i+1)//2, (i+1)%2] if i < 2 else axes[1, 1]
            cm = confusion_matrix(result['test_actual'], result['test_predictions'])
            sns.heatmap(cm, annot=True, fmt='d', cmap='Blues', ax=ax)
            ax.set_title(f'Confusion Matrix - {name}')
            ax.set_xlabel('Predicted')
            ax.set_ylabel('Actual')
        
        plt.tight_layout()
        plt.show()
        
        print("\n" + "="*60)
        print("DETAILED CLASSIFICATION REPORTS")
        print("="*60)
        
        for name, result in results.items():
            print(f"\n{name} Classification Report:")
            print("-" * 40)
            print(classification_report(result['test_actual'], result['test_predictions']))

def run_football_prediction():
    """Main function to run the football prediction project"""
    print("🏈 Football Match Prediction ML Project")
    print("Using Kaggle Dataset (Naive Bayes, SVM, Decision Tree)")
    print("="*60)
    
    try:
        processor = FootballDataProcessor()
        predictor = FootballPredictor()
        
        print("\n📁 Step 1: Loading dataset...")
        df = processor.load_kaggle_data()
        
        # Optional: Sample dataset if too large (e.g., 50% for testing)
        if len(df) > 5000:
            print(f"Dataset size {len(df)} is large. Sampling 50% for faster training...")
            df = df.sample(frac=0.5, random_state=42)
        
        print("\n🔧 Step 2: Engineering features...")
        df_processed = processor.engineer_features(df)
        
        print("\n📊 Step 3: Preparing features and target...")
        X, y, selected_features = processor.prepare_features_target(df_processed)
        
        print("\n🧠 Step 4: Training models...")
        results = predictor.train_models(X, y, df_processed)
        
        print("\n📈 Step 5: Evaluating models...")
        predictor.evaluate_models(results)
        predictor.plot_results(results)
        
    except Exception as e:
        print(f"❌ Error in pipeline: {e}")
        raise

if __name__ == "__main__":
    run_football_prediction()
